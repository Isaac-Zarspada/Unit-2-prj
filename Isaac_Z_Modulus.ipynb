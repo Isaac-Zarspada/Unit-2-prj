{
  "cells": [
    {
      "cell_type": "code",
      "execution_count": 92,
      "metadata": {
        "colab": {
          "base_uri": "https://localhost:8080/"
        },
        "id": "CbExqIk8BPhK",
        "outputId": "b61729e7-4e5f-462c-d33a-f24478c3575a"
      },
      "outputs": [
        {
          "name": "stdout",
          "output_type": "stream",
          "text": [
            "Requirement already satisfied: category_encoders==2.* in c:\\users\\iespi\\anaconda3\\lib\\site-packages (2.3.0)\n",
            "Requirement already satisfied: patsy>=0.5.1 in c:\\users\\iespi\\anaconda3\\lib\\site-packages (from category_encoders==2.*) (0.5.1)\n",
            "Requirement already satisfied: scikit-learn>=0.20.0 in c:\\users\\iespi\\anaconda3\\lib\\site-packages (from category_encoders==2.*) (0.24.1)\n",
            "Requirement already satisfied: numpy>=1.14.0 in c:\\users\\iespi\\anaconda3\\lib\\site-packages (from category_encoders==2.*) (1.20.1)\n",
            "Requirement already satisfied: scipy>=1.0.0 in c:\\users\\iespi\\anaconda3\\lib\\site-packages (from category_encoders==2.*) (1.6.2)\n",
            "Requirement already satisfied: pandas>=0.21.1 in c:\\users\\iespi\\anaconda3\\lib\\site-packages (from category_encoders==2.*) (1.2.4)\n",
            "Requirement already satisfied: statsmodels>=0.9.0 in c:\\users\\iespi\\anaconda3\\lib\\site-packages (from category_encoders==2.*) (0.12.2)\n",
            "Requirement already satisfied: pytz>=2017.3 in c:\\users\\iespi\\anaconda3\\lib\\site-packages (from pandas>=0.21.1->category_encoders==2.*) (2021.1)\n",
            "Requirement already satisfied: python-dateutil>=2.7.3 in c:\\users\\iespi\\anaconda3\\lib\\site-packages (from pandas>=0.21.1->category_encoders==2.*) (2.8.1)\n",
            "Requirement already satisfied: six in c:\\users\\iespi\\anaconda3\\lib\\site-packages (from patsy>=0.5.1->category_encoders==2.*) (1.15.0)\n",
            "Requirement already satisfied: threadpoolctl>=2.0.0 in c:\\users\\iespi\\anaconda3\\lib\\site-packages (from scikit-learn>=0.20.0->category_encoders==2.*) (2.1.0)\n",
            "Requirement already satisfied: joblib>=0.11 in c:\\users\\iespi\\anaconda3\\lib\\site-packages (from scikit-learn>=0.20.0->category_encoders==2.*) (1.0.1)\n"
          ]
        }
      ],
      "source": [
        "!pip install category_encoders==2.*"
      ]
    },
    {
      "cell_type": "code",
      "execution_count": null,
      "metadata": {},
      "outputs": [],
      "source": [
        "import sys\n",
        "!{sys.executable} -m pip install xgboost\n",
        "# !{sys.executable} -m pip install pdpbox"
      ]
    },
    {
      "cell_type": "code",
      "execution_count": 173,
      "metadata": {},
      "outputs": [
        {
          "name": "stdout",
          "output_type": "stream",
          "text": [
            "Collecting package metadata (current_repodata.json): ...working... done\n",
            "Solving environment: ...working... done\n",
            "\n",
            "## Package Plan ##\n",
            "\n",
            "  environment location: C:\\Users\\iespi\\anaconda3\n",
            "\n",
            "  added / updated specs:\n",
            "    - pdpbox\n",
            "\n",
            "\n",
            "The following packages will be downloaded:\n",
            "\n",
            "    package                    |            build\n",
            "    ---------------------------|-----------------\n",
            "    conda-4.10.3               |   py38haa244fe_3         3.1 MB  conda-forge\n",
            "    pdpbox-0.2.1               |     pyhd8ed1ab_0        22.2 MB  conda-forge\n",
            "    python_abi-3.8             |           2_cp38           4 KB  conda-forge\n",
            "\n",
            "Note: you may need to restart the kernel to use updated packages.\n"
          ]
        },
        {
          "name": "stderr",
          "output_type": "stream",
          "text": [
            "Did not find path entry C:\\Users\\iespi\\anaconda3\\bin\n"
          ]
        },
        {
          "name": "stdout",
          "output_type": "stream",
          "text": [
            "    ------------------------------------------------------------\n",
            "                                           Total:        25.3 MB\n",
            "\n",
            "The following NEW packages will be INSTALLED:\n",
            "\n",
            "  pdpbox             conda-forge/noarch::pdpbox-0.2.1-pyhd8ed1ab_0\n",
            "  python_abi         conda-forge/win-64::python_abi-3.8-2_cp38\n",
            "\n",
            "The following packages will be UPDATED:\n",
            "\n",
            "  conda              pkgs/main::conda-4.10.3-py38haa95532_0 --> conda-forge::conda-4.10.3-py38haa244fe_3\n",
            "\n",
            "\n",
            "\n",
            "Downloading and Extracting Packages\n",
            "\n",
            "python_abi-3.8       | 4 KB      |            |   0% \n",
            "python_abi-3.8       | 4 KB      | ########## | 100% \n",
            "python_abi-3.8       | 4 KB      | ########## | 100% \n",
            "\n",
            "conda-4.10.3         | 3.1 MB    |            |   0% \n",
            "conda-4.10.3         | 3.1 MB    | 2          |   2% \n",
            "conda-4.10.3         | 3.1 MB    | 4          |   4% \n",
            "conda-4.10.3         | 3.1 MB    | 8          |   8% \n",
            "conda-4.10.3         | 3.1 MB    | #5         |  15% \n",
            "conda-4.10.3         | 3.1 MB    | ##1        |  21% \n",
            "conda-4.10.3         | 3.1 MB    | ##6        |  26% \n",
            "conda-4.10.3         | 3.1 MB    | ###5       |  35% \n",
            "conda-4.10.3         | 3.1 MB    | ####7      |  48% \n",
            "conda-4.10.3         | 3.1 MB    | #####7     |  57% \n",
            "conda-4.10.3         | 3.1 MB    | ######4    |  65% \n",
            "conda-4.10.3         | 3.1 MB    | #######4   |  74% \n",
            "conda-4.10.3         | 3.1 MB    | ########4  |  84% \n",
            "conda-4.10.3         | 3.1 MB    | #########3 |  93% \n",
            "conda-4.10.3         | 3.1 MB    | ########## | 100% \n",
            "\n",
            "pdpbox-0.2.1         | 22.2 MB   |            |   0% \n",
            "pdpbox-0.2.1         | 22.2 MB   |            |   0% \n",
            "pdpbox-0.2.1         | 22.2 MB   |            |   1% \n",
            "pdpbox-0.2.1         | 22.2 MB   | 2          |   2% \n",
            "pdpbox-0.2.1         | 22.2 MB   | 3          |   4% \n",
            "pdpbox-0.2.1         | 22.2 MB   | 4          |   5% \n",
            "pdpbox-0.2.1         | 22.2 MB   | 5          |   6% \n",
            "pdpbox-0.2.1         | 22.2 MB   | 6          |   7% \n",
            "pdpbox-0.2.1         | 22.2 MB   | 8          |   8% \n",
            "pdpbox-0.2.1         | 22.2 MB   | 9          |   9% \n",
            "pdpbox-0.2.1         | 22.2 MB   | #          |  11% \n",
            "pdpbox-0.2.1         | 22.2 MB   | #2         |  12% \n",
            "pdpbox-0.2.1         | 22.2 MB   | #3         |  14% \n",
            "pdpbox-0.2.1         | 22.2 MB   | #5         |  15% \n",
            "pdpbox-0.2.1         | 22.2 MB   | #6         |  17% \n",
            "pdpbox-0.2.1         | 22.2 MB   | #8         |  18% \n",
            "pdpbox-0.2.1         | 22.2 MB   | #9         |  20% \n",
            "pdpbox-0.2.1         | 22.2 MB   | ##         |  21% \n",
            "pdpbox-0.2.1         | 22.2 MB   | ##2        |  23% \n",
            "pdpbox-0.2.1         | 22.2 MB   | ##4        |  24% \n",
            "pdpbox-0.2.1         | 22.2 MB   | ##5        |  26% \n",
            "pdpbox-0.2.1         | 22.2 MB   | ##7        |  28% \n",
            "pdpbox-0.2.1         | 22.2 MB   | ##9        |  29% \n",
            "pdpbox-0.2.1         | 22.2 MB   | ###        |  31% \n",
            "pdpbox-0.2.1         | 22.2 MB   | ###2       |  32% \n",
            "pdpbox-0.2.1         | 22.2 MB   | ###3       |  34% \n",
            "pdpbox-0.2.1         | 22.2 MB   | ###5       |  35% \n",
            "pdpbox-0.2.1         | 22.2 MB   | ###6       |  37% \n",
            "pdpbox-0.2.1         | 22.2 MB   | ###8       |  38% \n",
            "pdpbox-0.2.1         | 22.2 MB   | ###9       |  40% \n",
            "pdpbox-0.2.1         | 22.2 MB   | ####1      |  41% \n",
            "pdpbox-0.2.1         | 22.2 MB   | ####2      |  43% \n",
            "pdpbox-0.2.1         | 22.2 MB   | ####4      |  44% \n",
            "pdpbox-0.2.1         | 22.2 MB   | ####5      |  46% \n",
            "pdpbox-0.2.1         | 22.2 MB   | ####6      |  47% \n",
            "pdpbox-0.2.1         | 22.2 MB   | ####8      |  48% \n",
            "pdpbox-0.2.1         | 22.2 MB   | ####9      |  50% \n",
            "pdpbox-0.2.1         | 22.2 MB   | #####1     |  51% \n",
            "pdpbox-0.2.1         | 22.2 MB   | #####2     |  52% \n",
            "pdpbox-0.2.1         | 22.2 MB   | #####3     |  53% \n",
            "pdpbox-0.2.1         | 22.2 MB   | #####4     |  54% \n",
            "pdpbox-0.2.1         | 22.2 MB   | #####5     |  55% \n",
            "pdpbox-0.2.1         | 22.2 MB   | #####5     |  56% \n",
            "pdpbox-0.2.1         | 22.2 MB   | #####6     |  56% \n",
            "pdpbox-0.2.1         | 22.2 MB   | #####7     |  57% \n",
            "pdpbox-0.2.1         | 22.2 MB   | #####8     |  58% \n",
            "pdpbox-0.2.1         | 22.2 MB   | #####9     |  60% \n",
            "pdpbox-0.2.1         | 22.2 MB   | ######1    |  61% \n",
            "pdpbox-0.2.1         | 22.2 MB   | ######2    |  63% \n",
            "pdpbox-0.2.1         | 22.2 MB   | ######4    |  64% \n",
            "pdpbox-0.2.1         | 22.2 MB   | ######5    |  65% \n",
            "pdpbox-0.2.1         | 22.2 MB   | ######6    |  66% \n",
            "pdpbox-0.2.1         | 22.2 MB   | ######7    |  67% \n",
            "pdpbox-0.2.1         | 22.2 MB   | ######7    |  68% \n",
            "pdpbox-0.2.1         | 22.2 MB   | ######8    |  68% \n",
            "pdpbox-0.2.1         | 22.2 MB   | ######9    |  69% \n",
            "pdpbox-0.2.1         | 22.2 MB   | ######9    |  70% \n",
            "pdpbox-0.2.1         | 22.2 MB   | #######    |  70% \n",
            "pdpbox-0.2.1         | 22.2 MB   | #######    |  70% \n",
            "pdpbox-0.2.1         | 22.2 MB   | #######    |  71% \n",
            "pdpbox-0.2.1         | 22.2 MB   | #######1   |  71% \n",
            "pdpbox-0.2.1         | 22.2 MB   | #######1   |  72% \n",
            "pdpbox-0.2.1         | 22.2 MB   | #######2   |  72% \n",
            "pdpbox-0.2.1         | 22.2 MB   | #######2   |  73% \n",
            "pdpbox-0.2.1         | 22.2 MB   | #######3   |  74% \n",
            "pdpbox-0.2.1         | 22.2 MB   | #######4   |  74% \n",
            "pdpbox-0.2.1         | 22.2 MB   | #######4   |  75% \n",
            "pdpbox-0.2.1         | 22.2 MB   | #######5   |  75% \n",
            "pdpbox-0.2.1         | 22.2 MB   | #######5   |  76% \n",
            "pdpbox-0.2.1         | 22.2 MB   | #######6   |  76% \n",
            "pdpbox-0.2.1         | 22.2 MB   | #######6   |  77% \n",
            "pdpbox-0.2.1         | 22.2 MB   | #######7   |  77% \n",
            "pdpbox-0.2.1         | 22.2 MB   | #######7   |  78% \n",
            "pdpbox-0.2.1         | 22.2 MB   | #######8   |  78% \n",
            "pdpbox-0.2.1         | 22.2 MB   | #######8   |  79% \n",
            "pdpbox-0.2.1         | 22.2 MB   | #######9   |  79% \n",
            "pdpbox-0.2.1         | 22.2 MB   | #######9   |  80% \n",
            "pdpbox-0.2.1         | 22.2 MB   | ########   |  80% \n",
            "pdpbox-0.2.1         | 22.2 MB   | ########   |  80% \n",
            "pdpbox-0.2.1         | 22.2 MB   | ########   |  81% \n",
            "pdpbox-0.2.1         | 22.2 MB   | ########1  |  81% \n",
            "pdpbox-0.2.1         | 22.2 MB   | ########1  |  82% \n",
            "pdpbox-0.2.1         | 22.2 MB   | ########1  |  82% \n",
            "pdpbox-0.2.1         | 22.2 MB   | ########2  |  82% \n",
            "pdpbox-0.2.1         | 22.2 MB   | ########2  |  83% \n",
            "pdpbox-0.2.1         | 22.2 MB   | ########2  |  83% \n",
            "pdpbox-0.2.1         | 22.2 MB   | ########3  |  83% \n",
            "pdpbox-0.2.1         | 22.2 MB   | ########3  |  83% \n",
            "pdpbox-0.2.1         | 22.2 MB   | ########3  |  84% \n",
            "pdpbox-0.2.1         | 22.2 MB   | ########4  |  84% \n",
            "pdpbox-0.2.1         | 22.2 MB   | ########4  |  85% \n",
            "pdpbox-0.2.1         | 22.2 MB   | ########4  |  85% \n",
            "pdpbox-0.2.1         | 22.2 MB   | ########5  |  85% \n",
            "pdpbox-0.2.1         | 22.2 MB   | ########5  |  86% \n",
            "pdpbox-0.2.1         | 22.2 MB   | ########6  |  86% \n",
            "pdpbox-0.2.1         | 22.2 MB   | ########6  |  86% \n",
            "pdpbox-0.2.1         | 22.2 MB   | ########6  |  87% \n",
            "pdpbox-0.2.1         | 22.2 MB   | ########7  |  87% \n",
            "pdpbox-0.2.1         | 22.2 MB   | ########7  |  88% \n",
            "pdpbox-0.2.1         | 22.2 MB   | ########8  |  88% \n",
            "pdpbox-0.2.1         | 22.2 MB   | ########8  |  89% \n",
            "pdpbox-0.2.1         | 22.2 MB   | ########9  |  89% \n",
            "pdpbox-0.2.1         | 22.2 MB   | ########9  |  90% \n",
            "pdpbox-0.2.1         | 22.2 MB   | #########  |  90% \n",
            "pdpbox-0.2.1         | 22.2 MB   | #########  |  91% \n",
            "pdpbox-0.2.1         | 22.2 MB   | #########1 |  91% \n",
            "pdpbox-0.2.1         | 22.2 MB   | #########1 |  92% \n",
            "pdpbox-0.2.1         | 22.2 MB   | #########2 |  92% \n",
            "pdpbox-0.2.1         | 22.2 MB   | #########3 |  93% \n",
            "pdpbox-0.2.1         | 22.2 MB   | #########3 |  94% \n",
            "pdpbox-0.2.1         | 22.2 MB   | #########4 |  94% \n",
            "pdpbox-0.2.1         | 22.2 MB   | #########4 |  95% \n",
            "pdpbox-0.2.1         | 22.2 MB   | #########5 |  95% \n",
            "pdpbox-0.2.1         | 22.2 MB   | #########5 |  96% \n",
            "pdpbox-0.2.1         | 22.2 MB   | #########6 |  96% \n",
            "pdpbox-0.2.1         | 22.2 MB   | #########6 |  96% \n",
            "pdpbox-0.2.1         | 22.2 MB   | #########6 |  97% \n",
            "pdpbox-0.2.1         | 22.2 MB   | #########7 |  97% \n",
            "pdpbox-0.2.1         | 22.2 MB   | #########7 |  97% \n",
            "pdpbox-0.2.1         | 22.2 MB   | #########7 |  98% \n",
            "pdpbox-0.2.1         | 22.2 MB   | #########7 |  98% \n",
            "pdpbox-0.2.1         | 22.2 MB   | #########8 |  98% \n",
            "pdpbox-0.2.1         | 22.2 MB   | #########8 |  98% \n",
            "pdpbox-0.2.1         | 22.2 MB   | #########8 |  98% \n",
            "pdpbox-0.2.1         | 22.2 MB   | #########8 |  99% \n",
            "pdpbox-0.2.1         | 22.2 MB   | #########9 |  99% \n",
            "pdpbox-0.2.1         | 22.2 MB   | #########9 |  99% \n",
            "pdpbox-0.2.1         | 22.2 MB   | #########9 | 100% \n",
            "pdpbox-0.2.1         | 22.2 MB   | ########## | 100% \n",
            "Preparing transaction: ...working... done\n",
            "Verifying transaction: ...working... done\n",
            "Executing transaction: ...working... done\n"
          ]
        }
      ],
      "source": [
        "conda install -c conda-forge pdpbox"
      ]
    },
    {
      "cell_type": "code",
      "execution_count": 145,
      "metadata": {
        "id": "xqS01v_I1nEy"
      },
      "outputs": [],
      "source": [
        "# importing toolkits\n",
        "import pandas as pd\n",
        "from sklearn.pipeline import make_pipeline\n",
        "from sklearn.impute import SimpleImputer\n",
        "from sklearn.ensemble import RandomForestRegressor\n",
        "from sklearn.linear_model import LogisticRegression\n",
        "from sklearn.preprocessing import StandardScaler\n",
        "from sklearn.metrics import classification_report, roc_curve, plot_confusion_matrix, plot_roc_curve, roc_auc_score, r2_score, mean_absolute_error\n",
        "from sklearn.model_selection import train_test_split\n",
        "from category_encoders import OneHotEncoder, OrdinalEncoder\n",
        "import matplotlib.pyplot as plt\n",
        "from sklearn.ensemble import GradientBoostingRegressor\n",
        "from xgboost import XGBRegressor \n",
        "from sklearn.linear_model import Ridge, LinearRegression"
      ]
    },
    {
      "cell_type": "markdown",
      "metadata": {},
      "source": [
        "Organizing like the Romans "
      ]
    },
    {
      "cell_type": "code",
      "execution_count": 137,
      "metadata": {
        "colab": {
          "base_uri": "https://localhost:8080/",
          "height": 467
        },
        "id": "WiJNfbXh1Kgj",
        "outputId": "94dff5e9-e554-48f2-c0ba-1055edd02aee"
      },
      "outputs": [
        {
          "data": {
            "text/html": [
              "<div>\n",
              "<style scoped>\n",
              "    .dataframe tbody tr th:only-of-type {\n",
              "        vertical-align: middle;\n",
              "    }\n",
              "\n",
              "    .dataframe tbody tr th {\n",
              "        vertical-align: top;\n",
              "    }\n",
              "\n",
              "    .dataframe thead th {\n",
              "        text-align: right;\n",
              "    }\n",
              "</style>\n",
              "<table border=\"1\" class=\"dataframe\">\n",
              "  <thead>\n",
              "    <tr style=\"text-align: right;\">\n",
              "      <th></th>\n",
              "      <th>Year_Birth</th>\n",
              "      <th>Marital_Status</th>\n",
              "      <th>Income</th>\n",
              "      <th>Kidhome</th>\n",
              "      <th>Teenhome</th>\n",
              "      <th>Recency</th>\n",
              "      <th>MntWines</th>\n",
              "      <th>MntFruits</th>\n",
              "      <th>MntMeatProducts</th>\n",
              "      <th>MntFishProducts</th>\n",
              "      <th>MntSweetProducts</th>\n",
              "      <th>MntGoldProds</th>\n",
              "      <th>NumDealsPurchases</th>\n",
              "      <th>NumWebPurchases</th>\n",
              "      <th>NumCatalogPurchases</th>\n",
              "      <th>NumStorePurchases</th>\n",
              "      <th>NumWebVisitsMonth</th>\n",
              "    </tr>\n",
              "    <tr>\n",
              "      <th>Dt_Customer</th>\n",
              "      <th></th>\n",
              "      <th></th>\n",
              "      <th></th>\n",
              "      <th></th>\n",
              "      <th></th>\n",
              "      <th></th>\n",
              "      <th></th>\n",
              "      <th></th>\n",
              "      <th></th>\n",
              "      <th></th>\n",
              "      <th></th>\n",
              "      <th></th>\n",
              "      <th></th>\n",
              "      <th></th>\n",
              "      <th></th>\n",
              "      <th></th>\n",
              "      <th></th>\n",
              "    </tr>\n",
              "  </thead>\n",
              "  <tbody>\n",
              "    <tr>\n",
              "      <th>2012-01-08</th>\n",
              "      <td>1985</td>\n",
              "      <td>1</td>\n",
              "      <td>8000.0</td>\n",
              "      <td>1</td>\n",
              "      <td>0</td>\n",
              "      <td>98</td>\n",
              "      <td>5</td>\n",
              "      <td>17</td>\n",
              "      <td>17</td>\n",
              "      <td>13</td>\n",
              "      <td>14</td>\n",
              "      <td>34</td>\n",
              "      <td>4</td>\n",
              "      <td>2</td>\n",
              "      <td>1</td>\n",
              "      <td>3</td>\n",
              "      <td>9</td>\n",
              "    </tr>\n",
              "    <tr>\n",
              "      <th>2012-01-08</th>\n",
              "      <td>1959</td>\n",
              "      <td>1</td>\n",
              "      <td>83000.0</td>\n",
              "      <td>0</td>\n",
              "      <td>0</td>\n",
              "      <td>66</td>\n",
              "      <td>1206</td>\n",
              "      <td>55</td>\n",
              "      <td>445</td>\n",
              "      <td>168</td>\n",
              "      <td>18</td>\n",
              "      <td>18</td>\n",
              "      <td>1</td>\n",
              "      <td>2</td>\n",
              "      <td>4</td>\n",
              "      <td>12</td>\n",
              "      <td>1</td>\n",
              "    </tr>\n",
              "    <tr>\n",
              "      <th>2012-01-08</th>\n",
              "      <td>1957</td>\n",
              "      <td>1</td>\n",
              "      <td>74000.0</td>\n",
              "      <td>0</td>\n",
              "      <td>1</td>\n",
              "      <td>61</td>\n",
              "      <td>833</td>\n",
              "      <td>80</td>\n",
              "      <td>363</td>\n",
              "      <td>52</td>\n",
              "      <td>26</td>\n",
              "      <td>174</td>\n",
              "      <td>2</td>\n",
              "      <td>9</td>\n",
              "      <td>5</td>\n",
              "      <td>6</td>\n",
              "      <td>6</td>\n",
              "    </tr>\n",
              "    <tr>\n",
              "      <th>2012-01-08</th>\n",
              "      <td>1976</td>\n",
              "      <td>1</td>\n",
              "      <td>8000.0</td>\n",
              "      <td>1</td>\n",
              "      <td>0</td>\n",
              "      <td>19</td>\n",
              "      <td>7</td>\n",
              "      <td>0</td>\n",
              "      <td>12</td>\n",
              "      <td>13</td>\n",
              "      <td>7</td>\n",
              "      <td>32</td>\n",
              "      <td>5</td>\n",
              "      <td>4</td>\n",
              "      <td>1</td>\n",
              "      <td>2</td>\n",
              "      <td>9</td>\n",
              "    </tr>\n",
              "    <tr>\n",
              "      <th>2012-01-09</th>\n",
              "      <td>1969</td>\n",
              "      <td>1</td>\n",
              "      <td>95000.0</td>\n",
              "      <td>0</td>\n",
              "      <td>2</td>\n",
              "      <td>99</td>\n",
              "      <td>169</td>\n",
              "      <td>24</td>\n",
              "      <td>553</td>\n",
              "      <td>188</td>\n",
              "      <td>0</td>\n",
              "      <td>144</td>\n",
              "      <td>1</td>\n",
              "      <td>8</td>\n",
              "      <td>5</td>\n",
              "      <td>4</td>\n",
              "      <td>7</td>\n",
              "    </tr>\n",
              "  </tbody>\n",
              "</table>\n",
              "</div>"
            ],
            "text/plain": [
              "             Year_Birth  Marital_Status   Income  Kidhome  Teenhome  Recency  \\\n",
              "Dt_Customer                                                                    \n",
              "2012-01-08         1985               1   8000.0        1         0       98   \n",
              "2012-01-08         1959               1  83000.0        0         0       66   \n",
              "2012-01-08         1957               1  74000.0        0         1       61   \n",
              "2012-01-08         1976               1   8000.0        1         0       19   \n",
              "2012-01-09         1969               1  95000.0        0         2       99   \n",
              "\n",
              "             MntWines  MntFruits  MntMeatProducts  MntFishProducts  \\\n",
              "Dt_Customer                                                          \n",
              "2012-01-08          5         17               17               13   \n",
              "2012-01-08       1206         55              445              168   \n",
              "2012-01-08        833         80              363               52   \n",
              "2012-01-08          7          0               12               13   \n",
              "2012-01-09        169         24              553              188   \n",
              "\n",
              "             MntSweetProducts  MntGoldProds  NumDealsPurchases  \\\n",
              "Dt_Customer                                                      \n",
              "2012-01-08                 14            34                  4   \n",
              "2012-01-08                 18            18                  1   \n",
              "2012-01-08                 26           174                  2   \n",
              "2012-01-08                  7            32                  5   \n",
              "2012-01-09                  0           144                  1   \n",
              "\n",
              "             NumWebPurchases  NumCatalogPurchases  NumStorePurchases  \\\n",
              "Dt_Customer                                                            \n",
              "2012-01-08                 2                    1                  3   \n",
              "2012-01-08                 2                    4                 12   \n",
              "2012-01-08                 9                    5                  6   \n",
              "2012-01-08                 4                    1                  2   \n",
              "2012-01-09                 8                    5                  4   \n",
              "\n",
              "             NumWebVisitsMonth  \n",
              "Dt_Customer                     \n",
              "2012-01-08                   9  \n",
              "2012-01-08                   1  \n",
              "2012-01-08                   6  \n",
              "2012-01-08                   9  \n",
              "2012-01-09                   7  "
            ]
          },
          "execution_count": 137,
          "metadata": {},
          "output_type": "execute_result"
        }
      ],
      "source": [
        "# filepath\n",
        "data = 'marketing_campaign.csv'\n",
        "\n",
        "# wrangle function\n",
        "def wrangle(filepath):\n",
        "  # reading in\n",
        "  df = pd.read_csv(filepath,\n",
        "                  sep='\\t',\n",
        "                  parse_dates=['Dt_Customer'],\n",
        "                  index_col='Dt_Customer').sort_index()\n",
        "  # dropped columns\n",
        "  weights = ['AcceptedCmp3', 'AcceptedCmp4', 'AcceptedCmp5', 'AcceptedCmp1',\n",
        "            'AcceptedCmp2','Z_CostContact','Z_Revenue','ID', 'Response', 'Complain', 'Education']\n",
        "  df.drop(columns=weights,inplace=True)\n",
        "  # make marital status binary\n",
        "  df['Marital_Status'] = df['Marital_Status'].map({'Single':0, 'Divorced':0,'Widow':0,'Alone':0,'YOLO':0, 'Absurd':0,'Together':1, 'Married':1})\n",
        "  # before this next line income had about 1900 unique values now it 106\n",
        "  df['Income']= round(df['Income'],-3)\n",
        "  # drop nans\n",
        "  df.dropna(inplace=True)\n",
        "  # print out\n",
        "  return df\n",
        "\n",
        "# using the function\n",
        "df  = wrangle(data)\n",
        "# making the dataset binary\n",
        "# threshold = income mean\n",
        "# product binary = use threshold of mean of each purchase amount\n",
        "# randomforestclass __ hypertuning in multiclass\n",
        "\n",
        "df.head()"
      ]
    },
    {
      "cell_type": "markdown",
      "metadata": {},
      "source": [
        "Setting Target"
      ]
    },
    {
      "cell_type": "code",
      "execution_count": 138,
      "metadata": {
        "id": "qCisHp1XAKV0"
      },
      "outputs": [],
      "source": [
        "target = 'Income'\n",
        "# my problem is regression because the relationship is a constant between variables in the data and income predictions \n",
        "X, y= df.drop(columns = target), df[target]"
      ]
    },
    {
      "cell_type": "markdown",
      "metadata": {},
      "source": [
        "Train, test and validation split:"
      ]
    },
    {
      "cell_type": "code",
      "execution_count": 139,
      "metadata": {},
      "outputs": [],
      "source": [
        "# train test split\n",
        "X_train, X_val, y_train, y_val = train_test_split(X, y, test_size= 0.2, random_state= 42)"
      ]
    },
    {
      "cell_type": "markdown",
      "metadata": {},
      "source": [
        "Baseline:"
      ]
    },
    {
      "cell_type": "code",
      "execution_count": 140,
      "metadata": {},
      "outputs": [
        {
          "name": "stdout",
          "output_type": "stream",
          "text": [
            "Baseline Mean Absolute Error: 18239.28274793757\n"
          ]
        }
      ],
      "source": [
        "# MAE or Mean Absolute Error\n",
        "y_pred = [y_train.mean()] * len(y_train)\n",
        "print('Baseline Mean Absolute Error:', mean_absolute_error(y_train ,y_pred))"
      ]
    },
    {
      "cell_type": "markdown",
      "metadata": {},
      "source": [
        "Modeling"
      ]
    },
    {
      "cell_type": "code",
      "execution_count": 141,
      "metadata": {},
      "outputs": [
        {
          "name": "stdout",
          "output_type": "stream",
          "text": [
            "Training MAE 2420.265237020316\n",
            "Validation MAE 5878.490990990991\n"
          ]
        }
      ],
      "source": [
        "model_rf = make_pipeline(\n",
        "    OneHotEncoder(),\n",
        "    SimpleImputer(),\n",
        "    RandomForestRegressor()\n",
        ")\n",
        "model_rf.fit(X_train, y_train)\n",
        "# model scoring\n",
        "print(\"Training MAE\", mean_absolute_error(y_train, model_rf.predict(X_train)))\n",
        "print(\"Validation MAE\", mean_absolute_error(y_val, model_rf.predict(X_val)))"
      ]
    },
    {
      "cell_type": "code",
      "execution_count": 142,
      "metadata": {},
      "outputs": [
        {
          "name": "stdout",
          "output_type": "stream",
          "text": [
            "Training MAE 7637.44270592288\n",
            "Validation MAE 7327.804014381032\n"
          ]
        }
      ],
      "source": [
        "model_r = make_pipeline(\n",
        "    OneHotEncoder(),\n",
        "    SimpleImputer(),\n",
        "    Ridge()\n",
        ")\n",
        "model_r.fit(X_train, y_train)\n",
        "\n",
        "# model score\n",
        "print(\"Training MAE\", mean_absolute_error(y_train, model_r.predict(X_train)))\n",
        "print(\"Validation MAE\", mean_absolute_error(y_val, model_r.predict(X_val)))"
      ]
    },
    {
      "cell_type": "code",
      "execution_count": 162,
      "metadata": {},
      "outputs": [
        {
          "name": "stdout",
          "output_type": "stream",
          "text": [
            "Training MAE 851.1232474092436\n",
            "validation MAE 5646.6039005313905\n"
          ]
        }
      ],
      "source": [
        "model_boost = XGBRegressor(n_estimators= 78, n_jobs=-1)\n",
        "model_boost.fit(X_train, y_train)\n",
        "print(\"Training MAE\", mean_absolute_error(y_train, model_boost.predict(X_train)))\n",
        "print('validation MAE', mean_absolute_error(y_val, model_boost.predict(X_val)))"
      ]
    },
    {
      "cell_type": "code",
      "execution_count": 165,
      "metadata": {},
      "outputs": [
        {
          "data": {
            "text/html": [
              "<div>\n",
              "<style scoped>\n",
              "    .dataframe tbody tr th:only-of-type {\n",
              "        vertical-align: middle;\n",
              "    }\n",
              "\n",
              "    .dataframe tbody tr th {\n",
              "        vertical-align: top;\n",
              "    }\n",
              "\n",
              "    .dataframe thead th {\n",
              "        text-align: right;\n",
              "    }\n",
              "</style>\n",
              "<table border=\"1\" class=\"dataframe\">\n",
              "  <thead>\n",
              "    <tr style=\"text-align: right;\">\n",
              "      <th></th>\n",
              "      <th>mean</th>\n",
              "      <th>std</th>\n",
              "    </tr>\n",
              "  </thead>\n",
              "  <tbody>\n",
              "    <tr>\n",
              "      <th>NumStorePurchases</th>\n",
              "      <td>-0.047775</td>\n",
              "      <td>0.006589</td>\n",
              "    </tr>\n",
              "    <tr>\n",
              "      <th>MntGoldProds</th>\n",
              "      <td>-0.008177</td>\n",
              "      <td>0.009588</td>\n",
              "    </tr>\n",
              "    <tr>\n",
              "      <th>Year_Birth</th>\n",
              "      <td>-0.002838</td>\n",
              "      <td>0.015754</td>\n",
              "    </tr>\n",
              "    <tr>\n",
              "      <th>MntSweetProducts</th>\n",
              "      <td>-0.000964</td>\n",
              "      <td>0.036488</td>\n",
              "    </tr>\n",
              "    <tr>\n",
              "      <th>MntFishProducts</th>\n",
              "      <td>0.000215</td>\n",
              "      <td>0.001657</td>\n",
              "    </tr>\n",
              "    <tr>\n",
              "      <th>Recency</th>\n",
              "      <td>0.003514</td>\n",
              "      <td>0.003670</td>\n",
              "    </tr>\n",
              "    <tr>\n",
              "      <th>NumWebPurchases</th>\n",
              "      <td>0.017796</td>\n",
              "      <td>0.003018</td>\n",
              "    </tr>\n",
              "    <tr>\n",
              "      <th>Kidhome</th>\n",
              "      <td>0.024378</td>\n",
              "      <td>0.010843</td>\n",
              "    </tr>\n",
              "    <tr>\n",
              "      <th>Marital_Status</th>\n",
              "      <td>0.025386</td>\n",
              "      <td>0.021455</td>\n",
              "    </tr>\n",
              "    <tr>\n",
              "      <th>Teenhome</th>\n",
              "      <td>0.025765</td>\n",
              "      <td>0.009985</td>\n",
              "    </tr>\n",
              "    <tr>\n",
              "      <th>NumCatalogPurchases</th>\n",
              "      <td>0.038268</td>\n",
              "      <td>0.009277</td>\n",
              "    </tr>\n",
              "    <tr>\n",
              "      <th>NumDealsPurchases</th>\n",
              "      <td>0.042510</td>\n",
              "      <td>0.072756</td>\n",
              "    </tr>\n",
              "    <tr>\n",
              "      <th>NumWebVisitsMonth</th>\n",
              "      <td>0.246975</td>\n",
              "      <td>0.084738</td>\n",
              "    </tr>\n",
              "    <tr>\n",
              "      <th>MntWines</th>\n",
              "      <td>0.367335</td>\n",
              "      <td>0.054310</td>\n",
              "    </tr>\n",
              "    <tr>\n",
              "      <th>MntMeatProducts</th>\n",
              "      <td>0.401760</td>\n",
              "      <td>0.073847</td>\n",
              "    </tr>\n",
              "    <tr>\n",
              "      <th>MntFruits</th>\n",
              "      <td>0.925443</td>\n",
              "      <td>0.304050</td>\n",
              "    </tr>\n",
              "  </tbody>\n",
              "</table>\n",
              "</div>"
            ],
            "text/plain": [
              "                         mean       std\n",
              "NumStorePurchases   -0.047775  0.006589\n",
              "MntGoldProds        -0.008177  0.009588\n",
              "Year_Birth          -0.002838  0.015754\n",
              "MntSweetProducts    -0.000964  0.036488\n",
              "MntFishProducts      0.000215  0.001657\n",
              "Recency              0.003514  0.003670\n",
              "NumWebPurchases      0.017796  0.003018\n",
              "Kidhome              0.024378  0.010843\n",
              "Marital_Status       0.025386  0.021455\n",
              "Teenhome             0.025765  0.009985\n",
              "NumCatalogPurchases  0.038268  0.009277\n",
              "NumDealsPurchases    0.042510  0.072756\n",
              "NumWebVisitsMonth    0.246975  0.084738\n",
              "MntWines             0.367335  0.054310\n",
              "MntMeatProducts      0.401760  0.073847\n",
              "MntFruits            0.925443  0.304050"
            ]
          },
          "execution_count": 165,
          "metadata": {},
          "output_type": "execute_result"
        }
      ],
      "source": [
        "from sklearn.inspection import permutation_importance\n",
        "results = permutation_importance(model_boost, X_val, y_val, random_state = 13)\n",
        "\n",
        "perms = {'mean':results['importances_mean'],\n",
        "         'std':results['importances_std']}\n",
        "permutation_importances = pd.DataFrame(perms, index= X_val.columns).sort_values('mean')\n"
      ]
    },
    {
      "cell_type": "code",
      "execution_count": 164,
      "metadata": {},
      "outputs": [
        {
          "data": {
            "image/png": "[encoded data removed]",
            "text/plain": [
              "<Figure size 432x288 with 1 Axes>"
            ]
          },
          "metadata": {
            "needs_background": "light"
          },
          "output_type": "display_data"
        }
      ],
      "source": [
        "importances = model_boost.feature_importances_\n",
        "imp = pd.DataFrame(data=importances, index=X_train.columns, columns=['importances'])\n",
        "imp['importances'].sort_values().plot(kind='barh');\n",
        "plt.title('XGBoost Feature Importances')\n",
        "plt.show()"
      ]
    },
    {
      "cell_type": "code",
      "execution_count": 177,
      "metadata": {},
      "outputs": [
        {
          "data": {
            "image/png": "[encoded data removed]",
            "text/plain": [
              "<Figure size 1080x684 with 2 Axes>"
            ]
          },
          "metadata": {
            "needs_background": "light"
          },
          "output_type": "display_data"
        }
      ],
      "source": [
        "from pdpbox.pdp import pdp_isolate, pdp_plot, pdp_interact, pdp_interact_plot\n",
        "feature = 'MntMeatProducts'\n",
        "\n",
        "isolate = pdp_isolate(\n",
        "    model_r,\n",
        "    dataset= X_val, # USE YOUR VALIDATION DATA\n",
        "    model_features=X_val.columns,\n",
        "    feature=feature\n",
        ")\n",
        "pdp_plot(isolate, feature_name = feature);"
      ]
    }
  ],
  "metadata": {
    "colab": {
      "name": "Isaac_Z_Modulus.ipynb",
      "provenance": []
    },
    "kernelspec": {
      "display_name": "Python 3",
      "name": "python3"
    },
    "language_info": {
      "codemirror_mode": {
        "name": "ipython",
        "version": 3
      },
      "file_extension": ".py",
      "mimetype": "text/x-python",
      "name": "python",
      "nbconvert_exporter": "python",
      "pygments_lexer": "ipython3",
      "version": "3.8.8"
    }
  },
  "nbformat": 4,
  "nbformat_minor": 0
}
